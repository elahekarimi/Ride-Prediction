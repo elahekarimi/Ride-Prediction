{
 "cells": [
  {
   "cell_type": "markdown",
   "metadata": {
    "id": "jycMnLrdirrf"
   },
   "source": [
    "\n",
    "This project focuses on predicting ride values using machine learning models based on location, time, and day-related features. The dataset includes ride start locations, timestamps, day indicators, and ride distances, with the target variable being ride value. Three models—Linear Regression, Random Forest Regressor, and Gradient Boosting Regressor—are evaluated using 5-fold cross-validation and Mean Squared Error (MSE). The best-performing model is tested on unseen data, with results visualized to assess prediction accuracy."
   ]
  },
  {
   "cell_type": "markdown",
   "metadata": {
    "id": "n5HQMkdti77O"
   },
   "source": [
    "# Import Libraries"
   ]
  },
  {
   "cell_type": "code",
   "execution_count": 35,
   "metadata": {
    "id": "iAjCAPm5izof"
   },
   "outputs": [],
   "source": [
    "import pickle\n",
    "import pandas as pd\n",
    "import numpy as np\n",
    "from scipy import stats\n",
    "import matplotlib.pyplot as plt\n",
    "import seaborn as sns\n",
    "plt.style.use('default')\n",
    "sns.set_theme()\n",
    "import folium\n",
    "from geopy.distance import geodesic\n",
    "from sklearn.neighbors import KDTree\n",
    "from geopy.distance import geodesic\n",
    "import pyproj\n",
    "import folium\n",
    "from IPython.display import display\n",
    "\n",
    "# Machine Learning Libraries\n",
    "from sklearn.preprocessing import MinMaxScaler\n",
    "from sklearn.pipeline import Pipeline\n",
    "from sklearn.linear_model import LinearRegression\n",
    "from sklearn.ensemble import RandomForestRegressor, GradientBoostingRegressor\n",
    "from sklearn.model_selection import train_test_split, cross_val_score, KFold, GridSearchCV\n",
    "from sklearn.metrics import r2_score, mean_squared_error\n",
    "from sklearn import preprocessing"
   ]
  },
  {
   "cell_type": "markdown",
   "metadata": {
    "id": "GZCpJF2ZjGjq"
   },
   "source": [
    "# Read the dataset"
   ]
  },
  {
   "cell_type": "code",
   "execution_count": 36,
   "metadata": {
    "id": "MIW7OsqJ2BSc"
   },
   "outputs": [],
   "source": [
    "df_data = pd.read_csv('robotex5.csv')"
   ]
  },
  {
   "cell_type": "code",
   "execution_count": 37,
   "metadata": {
    "colab": {
     "base_uri": "https://localhost:8080/",
     "height": 206
    },
    "id": "voShz4MO2Hsf",
    "outputId": "44dd6490-de61-4b42-bc15-13e5f5bd18b5"
   },
   "outputs": [
    {
     "data": {
      "text/html": [
       "<div>\n",
       "<style scoped>\n",
       "    .dataframe tbody tr th:only-of-type {\n",
       "        vertical-align: middle;\n",
       "    }\n",
       "\n",
       "    .dataframe tbody tr th {\n",
       "        vertical-align: top;\n",
       "    }\n",
       "\n",
       "    .dataframe thead th {\n",
       "        text-align: right;\n",
       "    }\n",
       "</style>\n",
       "<table border=\"1\" class=\"dataframe\">\n",
       "  <thead>\n",
       "    <tr style=\"text-align: right;\">\n",
       "      <th></th>\n",
       "      <th>start_time</th>\n",
       "      <th>start_lat</th>\n",
       "      <th>start_lng</th>\n",
       "      <th>end_lat</th>\n",
       "      <th>end_lng</th>\n",
       "      <th>ride_value</th>\n",
       "    </tr>\n",
       "  </thead>\n",
       "  <tbody>\n",
       "    <tr>\n",
       "      <th>0</th>\n",
       "      <td>2022-03-06 15:02:39.329452000</td>\n",
       "      <td>59.407910</td>\n",
       "      <td>24.689836</td>\n",
       "      <td>59.513027</td>\n",
       "      <td>24.831630</td>\n",
       "      <td>3.51825</td>\n",
       "    </tr>\n",
       "    <tr>\n",
       "      <th>1</th>\n",
       "      <td>2022-03-10 11:15:55.177526000</td>\n",
       "      <td>59.441650</td>\n",
       "      <td>24.762712</td>\n",
       "      <td>59.426450</td>\n",
       "      <td>24.783076</td>\n",
       "      <td>0.50750</td>\n",
       "    </tr>\n",
       "    <tr>\n",
       "      <th>2</th>\n",
       "      <td>2022-03-06 14:23:33.893257000</td>\n",
       "      <td>59.435404</td>\n",
       "      <td>24.749795</td>\n",
       "      <td>59.431901</td>\n",
       "      <td>24.761588</td>\n",
       "      <td>0.19025</td>\n",
       "    </tr>\n",
       "    <tr>\n",
       "      <th>3</th>\n",
       "      <td>2022-03-03 09:11:59.104192000</td>\n",
       "      <td>59.406920</td>\n",
       "      <td>24.659006</td>\n",
       "      <td>59.381093</td>\n",
       "      <td>24.641652</td>\n",
       "      <td>0.75600</td>\n",
       "    </tr>\n",
       "    <tr>\n",
       "      <th>4</th>\n",
       "      <td>2022-03-06 00:13:01.290346000</td>\n",
       "      <td>59.434940</td>\n",
       "      <td>24.753641</td>\n",
       "      <td>59.489203</td>\n",
       "      <td>24.876170</td>\n",
       "      <td>2.27100</td>\n",
       "    </tr>\n",
       "  </tbody>\n",
       "</table>\n",
       "</div>"
      ],
      "text/plain": [
       "                      start_time  start_lat  start_lng    end_lat    end_lng  \\\n",
       "0  2022-03-06 15:02:39.329452000  59.407910  24.689836  59.513027  24.831630   \n",
       "1  2022-03-10 11:15:55.177526000  59.441650  24.762712  59.426450  24.783076   \n",
       "2  2022-03-06 14:23:33.893257000  59.435404  24.749795  59.431901  24.761588   \n",
       "3  2022-03-03 09:11:59.104192000  59.406920  24.659006  59.381093  24.641652   \n",
       "4  2022-03-06 00:13:01.290346000  59.434940  24.753641  59.489203  24.876170   \n",
       "\n",
       "   ride_value  \n",
       "0     3.51825  \n",
       "1     0.50750  \n",
       "2     0.19025  \n",
       "3     0.75600  \n",
       "4     2.27100  "
      ]
     },
     "execution_count": 37,
     "metadata": {},
     "output_type": "execute_result"
    }
   ],
   "source": [
    "df_data.head()"
   ]
  },
  {
   "cell_type": "markdown",
   "metadata": {
    "id": "xulmtZ2qmi3K"
   },
   "source": [
    "# Finding the null values"
   ]
  },
  {
   "cell_type": "code",
   "execution_count": 38,
   "metadata": {
    "colab": {
     "base_uri": "https://localhost:8080/",
     "height": 272
    },
    "id": "SlXqCn0G3BQz",
    "outputId": "1cd8f677-b967-4b17-9115-38bc93daefd6"
   },
   "outputs": [
    {
     "data": {
      "text/plain": [
       "start_time    0\n",
       "start_lat     0\n",
       "start_lng     0\n",
       "end_lat       0\n",
       "end_lng       0\n",
       "ride_value    0\n",
       "dtype: int64"
      ]
     },
     "execution_count": 38,
     "metadata": {},
     "output_type": "execute_result"
    }
   ],
   "source": [
    "df_data.isna().sum()"
   ]
  },
  {
   "cell_type": "code",
   "execution_count": 39,
   "metadata": {
    "colab": {
     "base_uri": "https://localhost:8080/"
    },
    "id": "UDX1SipT3E_W",
    "outputId": "2aaaa44d-3026-4d44-a21d-abdcde9229f1"
   },
   "outputs": [
    {
     "name": "stdout",
     "output_type": "stream",
     "text": [
      "<class 'pandas.core.frame.DataFrame'>\n",
      "RangeIndex: 627210 entries, 0 to 627209\n",
      "Data columns (total 6 columns):\n",
      " #   Column      Non-Null Count   Dtype  \n",
      "---  ------      --------------   -----  \n",
      " 0   start_time  627210 non-null  object \n",
      " 1   start_lat   627210 non-null  float64\n",
      " 2   start_lng   627210 non-null  float64\n",
      " 3   end_lat     627210 non-null  float64\n",
      " 4   end_lng     627210 non-null  float64\n",
      " 5   ride_value  627210 non-null  float64\n",
      "dtypes: float64(5), object(1)\n",
      "memory usage: 28.7+ MB\n"
     ]
    }
   ],
   "source": [
    "df_data.info()"
   ]
  },
  {
   "cell_type": "markdown",
   "metadata": {
    "id": "zjrBfoLdjeHc"
   },
   "source": [
    "Summary statistics for numerical columns"
   ]
  },
  {
   "cell_type": "code",
   "execution_count": 40,
   "metadata": {
    "colab": {
     "base_uri": "https://localhost:8080/",
     "height": 300
    },
    "id": "Arjjdxsl3I_w",
    "outputId": "f9c02e3e-e9f3-4894-fe60-ec847d53b6f7"
   },
   "outputs": [
    {
     "data": {
      "text/html": [
       "<div>\n",
       "<style scoped>\n",
       "    .dataframe tbody tr th:only-of-type {\n",
       "        vertical-align: middle;\n",
       "    }\n",
       "\n",
       "    .dataframe tbody tr th {\n",
       "        vertical-align: top;\n",
       "    }\n",
       "\n",
       "    .dataframe thead th {\n",
       "        text-align: right;\n",
       "    }\n",
       "</style>\n",
       "<table border=\"1\" class=\"dataframe\">\n",
       "  <thead>\n",
       "    <tr style=\"text-align: right;\">\n",
       "      <th></th>\n",
       "      <th>start_lat</th>\n",
       "      <th>start_lng</th>\n",
       "      <th>end_lat</th>\n",
       "      <th>end_lng</th>\n",
       "      <th>ride_value</th>\n",
       "    </tr>\n",
       "  </thead>\n",
       "  <tbody>\n",
       "    <tr>\n",
       "      <th>count</th>\n",
       "      <td>627210.000000</td>\n",
       "      <td>627210.000000</td>\n",
       "      <td>627210.000000</td>\n",
       "      <td>627210.000000</td>\n",
       "      <td>627210.000000</td>\n",
       "    </tr>\n",
       "    <tr>\n",
       "      <th>mean</th>\n",
       "      <td>59.428682</td>\n",
       "      <td>24.743468</td>\n",
       "      <td>59.397797</td>\n",
       "      <td>24.724847</td>\n",
       "      <td>2.261384</td>\n",
       "    </tr>\n",
       "    <tr>\n",
       "      <th>std</th>\n",
       "      <td>0.021764</td>\n",
       "      <td>0.056872</td>\n",
       "      <td>1.392755</td>\n",
       "      <td>1.650709</td>\n",
       "      <td>44.889892</td>\n",
       "    </tr>\n",
       "    <tr>\n",
       "      <th>min</th>\n",
       "      <td>59.321557</td>\n",
       "      <td>24.505199</td>\n",
       "      <td>-37.819979</td>\n",
       "      <td>-122.453962</td>\n",
       "      <td>0.107628</td>\n",
       "    </tr>\n",
       "    <tr>\n",
       "      <th>25%</th>\n",
       "      <td>59.418803</td>\n",
       "      <td>24.713140</td>\n",
       "      <td>59.415215</td>\n",
       "      <td>24.707919</td>\n",
       "      <td>0.545250</td>\n",
       "    </tr>\n",
       "    <tr>\n",
       "      <th>50%</th>\n",
       "      <td>59.432069</td>\n",
       "      <td>24.744674</td>\n",
       "      <td>59.430697</td>\n",
       "      <td>24.744335</td>\n",
       "      <td>1.059000</td>\n",
       "    </tr>\n",
       "    <tr>\n",
       "      <th>75%</th>\n",
       "      <td>59.439024</td>\n",
       "      <td>24.768115</td>\n",
       "      <td>59.439262</td>\n",
       "      <td>24.773924</td>\n",
       "      <td>1.712000</td>\n",
       "    </tr>\n",
       "    <tr>\n",
       "      <th>max</th>\n",
       "      <td>59.566998</td>\n",
       "      <td>24.973743</td>\n",
       "      <td>61.552744</td>\n",
       "      <td>144.966110</td>\n",
       "      <td>3172.701000</td>\n",
       "    </tr>\n",
       "  </tbody>\n",
       "</table>\n",
       "</div>"
      ],
      "text/plain": [
       "           start_lat      start_lng        end_lat        end_lng  \\\n",
       "count  627210.000000  627210.000000  627210.000000  627210.000000   \n",
       "mean       59.428682      24.743468      59.397797      24.724847   \n",
       "std         0.021764       0.056872       1.392755       1.650709   \n",
       "min        59.321557      24.505199     -37.819979    -122.453962   \n",
       "25%        59.418803      24.713140      59.415215      24.707919   \n",
       "50%        59.432069      24.744674      59.430697      24.744335   \n",
       "75%        59.439024      24.768115      59.439262      24.773924   \n",
       "max        59.566998      24.973743      61.552744     144.966110   \n",
       "\n",
       "          ride_value  \n",
       "count  627210.000000  \n",
       "mean        2.261384  \n",
       "std        44.889892  \n",
       "min         0.107628  \n",
       "25%         0.545250  \n",
       "50%         1.059000  \n",
       "75%         1.712000  \n",
       "max      3172.701000  "
      ]
     },
     "execution_count": 40,
     "metadata": {},
     "output_type": "execute_result"
    }
   ],
   "source": [
    "df_data.describe()"
   ]
  },
  {
   "cell_type": "markdown",
   "metadata": {
    "id": "qx57RrJsjigV"
   },
   "source": [
    "# Visulizing data for finding Outliers"
   ]
  },
  {
   "cell_type": "code",
   "execution_count": 41,
   "metadata": {
    "colab": {
     "base_uri": "https://localhost:8080/",
     "height": 452
    },
    "id": "ovyvs4un39QF",
    "outputId": "cf49f963-0a4f-4844-c806-6dbc40bc7118"
   },
   "outputs": [
    {
     "data": {
      "text/plain": [
       "<Axes: >"
      ]
     },
     "execution_count": 41,
     "metadata": {},
     "output_type": "execute_result"
    },
    {
     "data": {
      "image/png": "[encoded data removed]",
      "text/plain": [
       "<Figure size 640x480 with 1 Axes>"
      ]
     },
     "metadata": {},
     "output_type": "display_data"
    }
   ],
   "source": [
    "sns.boxplot(data=df_data)\n"
   ]
  },
  {
   "cell_type": "markdown",
   "metadata": {
    "id": "zOWRy2HDmTam"
   },
   "source": [
    "# Compare Summary Statistics With & Without Outliers\n",
    "check how much the mean and standard deviation change when we remove outliers"
   ]
  },
  {
   "cell_type": "code",
   "execution_count": 42,
   "metadata": {
    "colab": {
     "base_uri": "https://localhost:8080/"
    },
    "id": "uACLcghk7KU9",
    "outputId": "09651576-ec50-49fe-cbb2-79c85ee56a62"
   },
   "outputs": [
    {
     "name": "stdout",
     "output_type": "stream",
     "text": [
      "            Original  Without Outliers\n",
      "count  627210.000000     609541.000000\n",
      "mean        2.261384          1.165817\n",
      "std        44.889892          0.772136\n",
      "min         0.107628          0.107628\n",
      "25%         0.545250          0.532500\n",
      "50%         1.059000          1.027000\n",
      "75%         1.712000          1.642000\n",
      "max      3172.701000          3.462054\n"
     ]
    }
   ],
   "source": [
    "# Compute original statistics\n",
    "original_stats = df_data['ride_value'].describe()\n",
    "\n",
    "# Define IQR boundaries for outliers\n",
    "Q1 = df_data['ride_value'].quantile(0.25)\n",
    "Q3 = df_data['ride_value'].quantile(0.75)\n",
    "IQR = Q3 - Q1\n",
    "lower_bound = Q1 - 1.5 * IQR\n",
    "upper_bound = Q3 + 1.5 * IQR\n",
    "\n",
    "# Filter out outliers\n",
    "df_no_outliers = df_data[(df_data['ride_value'] >= lower_bound) &\n",
    "                                (df_data['ride_value'] <= upper_bound)]\n",
    "\n",
    "# Compute new statistics\n",
    "filtered_stats = df_no_outliers['ride_value'].describe()\n",
    "\n",
    "# Display comparison\n",
    "comparison = pd.DataFrame({'Original': original_stats, 'Without Outliers': filtered_stats})\n",
    "print(comparison)\n"
   ]
  },
  {
   "cell_type": "markdown",
   "metadata": {
    "id": "9OinMPL5kMSp"
   },
   "source": [
    "# Outlier Handling Decision\n",
    "\n",
    "After identifying outliers in the ride_value column, I explored different approaches to handle them, including transformation techniques (log and Box-Cox) and outlier removal. However, after testing these modifications in my model, I observed that they did not significantly improve performance.\n",
    "\n",
    "Instead, I found that keeping the original ride_value values led to consistent and positive results, particularly for tree-based models like Gradient Boosting Regressor. Since these models naturally handle outliers well, I decided to proceed without additional outlier handling, ensuring that the dataset remains as close to its original form as possible."
   ]
  },
  {
   "cell_type": "markdown",
   "metadata": {
    "id": "VRuzwTYxkbXw"
   },
   "source": [
    "# Data Engineering"
   ]
  },
  {
   "cell_type": "markdown",
   "metadata": {
    "id": "RzxsaQvPkwJp"
   },
   "source": [
    "This code converts the start_time column to a datetime format (if it isn’t already) and then removes milliseconds by rounding down to the nearest second using .dt.floor('S'). This ensures consistency in timestamp precision, which can be useful for time-based analysis or modeling."
   ]
  },
  {
   "cell_type": "code",
   "execution_count": 43,
   "metadata": {
    "colab": {
     "base_uri": "https://localhost:8080/"
    },
    "id": "nuyzFBWyC7NU",
    "outputId": "01df986a-4f9e-4138-fd4f-74cb9fbdd5bd"
   },
   "outputs": [],
   "source": [
    "# Convert to datetime (if not already in datetime format)\n",
    "converted_datetime = pd.to_datetime(df_data['start_time'])\n",
    "\n",
    "# Omit the milliseconds directly using floor\n",
    "converted_datetime = converted_datetime.dt.floor('s')\n"
   ]
  },
  {
   "cell_type": "code",
   "execution_count": 44,
   "metadata": {
    "colab": {
     "base_uri": "https://localhost:8080/"
    },
    "id": "oU1Iw6k4CTRY",
    "outputId": "5f9744bf-e6ee-4175-e835-aabb4b560c50"
   },
   "outputs": [
    {
     "name": "stdout",
     "output_type": "stream",
     "text": [
      "Date range = 27 days 23:59:46.\n"
     ]
    }
   ],
   "source": [
    "date_range = converted_datetime.max() - converted_datetime.min()\n",
    "print(f\"Date range = {date_range}.\")"
   ]
  },
  {
   "cell_type": "markdown",
   "metadata": {
    "id": "62S7JQcXk7Wz"
   },
   "source": [
    "This code extracts key time-based features from the start_time column:\n",
    "\n",
    "start_date: Keeps only the date (removes time) using .normalize().\n",
    "start_hour: Extracts the hour of the ride start time.\n",
    "start_minute: Extracts the minute of the ride start time.\n",
    "start_second: Extracts the second of the ride start time."
   ]
  },
  {
   "cell_type": "code",
   "execution_count": 45,
   "metadata": {
    "id": "xASr2DXnDOwN"
   },
   "outputs": [],
   "source": [
    "df_data['start_date'] = converted_datetime.dt.normalize()\n",
    "df_data['start_hour'] = converted_datetime.dt.hour\n",
    "df_data['start_minute'] = converted_datetime.dt.minute\n",
    "df_data['start_second'] = converted_datetime.dt.second"
   ]
  },
  {
   "cell_type": "code",
   "execution_count": 46,
   "metadata": {
    "colab": {
     "base_uri": "https://localhost:8080/",
     "height": 206
    },
    "id": "tg1Sa2KdDQEM",
    "outputId": "2f08c450-dc57-4955-a937-1de6f7ac2dde"
   },
   "outputs": [
    {
     "data": {
      "text/html": [
       "<div>\n",
       "<style scoped>\n",
       "    .dataframe tbody tr th:only-of-type {\n",
       "        vertical-align: middle;\n",
       "    }\n",
       "\n",
       "    .dataframe tbody tr th {\n",
       "        vertical-align: top;\n",
       "    }\n",
       "\n",
       "    .dataframe thead th {\n",
       "        text-align: right;\n",
       "    }\n",
       "</style>\n",
       "<table border=\"1\" class=\"dataframe\">\n",
       "  <thead>\n",
       "    <tr style=\"text-align: right;\">\n",
       "      <th></th>\n",
       "      <th>start_time</th>\n",
       "      <th>start_lat</th>\n",
       "      <th>start_lng</th>\n",
       "      <th>end_lat</th>\n",
       "      <th>end_lng</th>\n",
       "      <th>ride_value</th>\n",
       "      <th>start_date</th>\n",
       "      <th>start_hour</th>\n",
       "      <th>start_minute</th>\n",
       "      <th>start_second</th>\n",
       "    </tr>\n",
       "  </thead>\n",
       "  <tbody>\n",
       "    <tr>\n",
       "      <th>0</th>\n",
       "      <td>2022-03-06 15:02:39.329452000</td>\n",
       "      <td>59.407910</td>\n",
       "      <td>24.689836</td>\n",
       "      <td>59.513027</td>\n",
       "      <td>24.831630</td>\n",
       "      <td>3.51825</td>\n",
       "      <td>2022-03-06</td>\n",
       "      <td>15</td>\n",
       "      <td>2</td>\n",
       "      <td>39</td>\n",
       "    </tr>\n",
       "    <tr>\n",
       "      <th>1</th>\n",
       "      <td>2022-03-10 11:15:55.177526000</td>\n",
       "      <td>59.441650</td>\n",
       "      <td>24.762712</td>\n",
       "      <td>59.426450</td>\n",
       "      <td>24.783076</td>\n",
       "      <td>0.50750</td>\n",
       "      <td>2022-03-10</td>\n",
       "      <td>11</td>\n",
       "      <td>15</td>\n",
       "      <td>55</td>\n",
       "    </tr>\n",
       "    <tr>\n",
       "      <th>2</th>\n",
       "      <td>2022-03-06 14:23:33.893257000</td>\n",
       "      <td>59.435404</td>\n",
       "      <td>24.749795</td>\n",
       "      <td>59.431901</td>\n",
       "      <td>24.761588</td>\n",
       "      <td>0.19025</td>\n",
       "      <td>2022-03-06</td>\n",
       "      <td>14</td>\n",
       "      <td>23</td>\n",
       "      <td>33</td>\n",
       "    </tr>\n",
       "    <tr>\n",
       "      <th>3</th>\n",
       "      <td>2022-03-03 09:11:59.104192000</td>\n",
       "      <td>59.406920</td>\n",
       "      <td>24.659006</td>\n",
       "      <td>59.381093</td>\n",
       "      <td>24.641652</td>\n",
       "      <td>0.75600</td>\n",
       "      <td>2022-03-03</td>\n",
       "      <td>9</td>\n",
       "      <td>11</td>\n",
       "      <td>59</td>\n",
       "    </tr>\n",
       "    <tr>\n",
       "      <th>4</th>\n",
       "      <td>2022-03-06 00:13:01.290346000</td>\n",
       "      <td>59.434940</td>\n",
       "      <td>24.753641</td>\n",
       "      <td>59.489203</td>\n",
       "      <td>24.876170</td>\n",
       "      <td>2.27100</td>\n",
       "      <td>2022-03-06</td>\n",
       "      <td>0</td>\n",
       "      <td>13</td>\n",
       "      <td>1</td>\n",
       "    </tr>\n",
       "  </tbody>\n",
       "</table>\n",
       "</div>"
      ],
      "text/plain": [
       "                      start_time  start_lat  start_lng    end_lat    end_lng  \\\n",
       "0  2022-03-06 15:02:39.329452000  59.407910  24.689836  59.513027  24.831630   \n",
       "1  2022-03-10 11:15:55.177526000  59.441650  24.762712  59.426450  24.783076   \n",
       "2  2022-03-06 14:23:33.893257000  59.435404  24.749795  59.431901  24.761588   \n",
       "3  2022-03-03 09:11:59.104192000  59.406920  24.659006  59.381093  24.641652   \n",
       "4  2022-03-06 00:13:01.290346000  59.434940  24.753641  59.489203  24.876170   \n",
       "\n",
       "   ride_value start_date  start_hour  start_minute  start_second  \n",
       "0     3.51825 2022-03-06          15             2            39  \n",
       "1     0.50750 2022-03-10          11            15            55  \n",
       "2     0.19025 2022-03-06          14            23            33  \n",
       "3     0.75600 2022-03-03           9            11            59  \n",
       "4     2.27100 2022-03-06           0            13             1  "
      ]
     },
     "execution_count": 46,
     "metadata": {},
     "output_type": "execute_result"
    }
   ],
   "source": [
    "df_data.head()"
   ]
  },
  {
   "cell_type": "markdown",
   "metadata": {
    "id": "XBGDJQo9lI9E"
   },
   "source": [
    "This code extracts the day of the week and weekend indicator from the start_date column:\n",
    "\n",
    "day_of_week: Converts the .weekday() result (0=Monday to 6=Sunday) into a more intuitive format (1=Monday to 7=Sunday).\n",
    "is_weekend: Assigns 1 if the ride occurred on Saturday (6) or Sunday (7), otherwise assigns 0."
   ]
  },
  {
   "cell_type": "code",
   "execution_count": 47,
   "metadata": {
    "id": "aqnJEohDDXwo"
   },
   "outputs": [],
   "source": [
    "# add \"day_of_week\" and \"is_weekend\" features to the dataframe\n",
    "\n",
    "day_of_week = []\n",
    "is_weekend = []\n",
    "\n",
    "# loop through every row of the column \"start_date\"\n",
    "for i in df_data['start_date']:\n",
    "\n",
    "    # by default, the .weekday method returns 0=monday -> 6=sunday.\n",
    "    # +1 to make more sense. 1=monday -> 7=sunday.\n",
    "    day = i.weekday()+1\n",
    "    day_of_week.append(day)\n",
    "\n",
    "    # if day falls on either saturday or sunday, make value = 1, else value = 0.\n",
    "    weekend = 1 if day == 6 or day == 7 else 0\n",
    "    is_weekend.append(weekend)\n",
    "\n",
    "# append features to the dataframe\n",
    "df_data['day_of_week'] = day_of_week\n",
    "df_data['is_weekend'] = is_weekend"
   ]
  },
  {
   "cell_type": "code",
   "execution_count": 48,
   "metadata": {
    "colab": {
     "base_uri": "https://localhost:8080/",
     "height": 206
    },
    "id": "w5bZN4aXPTkU",
    "outputId": "4846e1ba-9ce4-459c-ef91-48c19bad27f7"
   },
   "outputs": [
    {
     "data": {
      "text/html": [
       "<div>\n",
       "<style scoped>\n",
       "    .dataframe tbody tr th:only-of-type {\n",
       "        vertical-align: middle;\n",
       "    }\n",
       "\n",
       "    .dataframe tbody tr th {\n",
       "        vertical-align: top;\n",
       "    }\n",
       "\n",
       "    .dataframe thead th {\n",
       "        text-align: right;\n",
       "    }\n",
       "</style>\n",
       "<table border=\"1\" class=\"dataframe\">\n",
       "  <thead>\n",
       "    <tr style=\"text-align: right;\">\n",
       "      <th></th>\n",
       "      <th>start_time</th>\n",
       "      <th>start_lat</th>\n",
       "      <th>start_lng</th>\n",
       "      <th>end_lat</th>\n",
       "      <th>end_lng</th>\n",
       "      <th>ride_value</th>\n",
       "      <th>start_date</th>\n",
       "      <th>start_hour</th>\n",
       "      <th>start_minute</th>\n",
       "      <th>start_second</th>\n",
       "      <th>day_of_week</th>\n",
       "      <th>is_weekend</th>\n",
       "    </tr>\n",
       "  </thead>\n",
       "  <tbody>\n",
       "    <tr>\n",
       "      <th>0</th>\n",
       "      <td>2022-03-06 15:02:39.329452000</td>\n",
       "      <td>59.407910</td>\n",
       "      <td>24.689836</td>\n",
       "      <td>59.513027</td>\n",
       "      <td>24.831630</td>\n",
       "      <td>3.51825</td>\n",
       "      <td>2022-03-06</td>\n",
       "      <td>15</td>\n",
       "      <td>2</td>\n",
       "      <td>39</td>\n",
       "      <td>7</td>\n",
       "      <td>1</td>\n",
       "    </tr>\n",
       "    <tr>\n",
       "      <th>1</th>\n",
       "      <td>2022-03-10 11:15:55.177526000</td>\n",
       "      <td>59.441650</td>\n",
       "      <td>24.762712</td>\n",
       "      <td>59.426450</td>\n",
       "      <td>24.783076</td>\n",
       "      <td>0.50750</td>\n",
       "      <td>2022-03-10</td>\n",
       "      <td>11</td>\n",
       "      <td>15</td>\n",
       "      <td>55</td>\n",
       "      <td>4</td>\n",
       "      <td>0</td>\n",
       "    </tr>\n",
       "    <tr>\n",
       "      <th>2</th>\n",
       "      <td>2022-03-06 14:23:33.893257000</td>\n",
       "      <td>59.435404</td>\n",
       "      <td>24.749795</td>\n",
       "      <td>59.431901</td>\n",
       "      <td>24.761588</td>\n",
       "      <td>0.19025</td>\n",
       "      <td>2022-03-06</td>\n",
       "      <td>14</td>\n",
       "      <td>23</td>\n",
       "      <td>33</td>\n",
       "      <td>7</td>\n",
       "      <td>1</td>\n",
       "    </tr>\n",
       "    <tr>\n",
       "      <th>3</th>\n",
       "      <td>2022-03-03 09:11:59.104192000</td>\n",
       "      <td>59.406920</td>\n",
       "      <td>24.659006</td>\n",
       "      <td>59.381093</td>\n",
       "      <td>24.641652</td>\n",
       "      <td>0.75600</td>\n",
       "      <td>2022-03-03</td>\n",
       "      <td>9</td>\n",
       "      <td>11</td>\n",
       "      <td>59</td>\n",
       "      <td>4</td>\n",
       "      <td>0</td>\n",
       "    </tr>\n",
       "    <tr>\n",
       "      <th>4</th>\n",
       "      <td>2022-03-06 00:13:01.290346000</td>\n",
       "      <td>59.434940</td>\n",
       "      <td>24.753641</td>\n",
       "      <td>59.489203</td>\n",
       "      <td>24.876170</td>\n",
       "      <td>2.27100</td>\n",
       "      <td>2022-03-06</td>\n",
       "      <td>0</td>\n",
       "      <td>13</td>\n",
       "      <td>1</td>\n",
       "      <td>7</td>\n",
       "      <td>1</td>\n",
       "    </tr>\n",
       "  </tbody>\n",
       "</table>\n",
       "</div>"
      ],
      "text/plain": [
       "                      start_time  start_lat  start_lng    end_lat    end_lng  \\\n",
       "0  2022-03-06 15:02:39.329452000  59.407910  24.689836  59.513027  24.831630   \n",
       "1  2022-03-10 11:15:55.177526000  59.441650  24.762712  59.426450  24.783076   \n",
       "2  2022-03-06 14:23:33.893257000  59.435404  24.749795  59.431901  24.761588   \n",
       "3  2022-03-03 09:11:59.104192000  59.406920  24.659006  59.381093  24.641652   \n",
       "4  2022-03-06 00:13:01.290346000  59.434940  24.753641  59.489203  24.876170   \n",
       "\n",
       "   ride_value start_date  start_hour  start_minute  start_second  day_of_week  \\\n",
       "0     3.51825 2022-03-06          15             2            39            7   \n",
       "1     0.50750 2022-03-10          11            15            55            4   \n",
       "2     0.19025 2022-03-06          14            23            33            7   \n",
       "3     0.75600 2022-03-03           9            11            59            4   \n",
       "4     2.27100 2022-03-06           0            13             1            7   \n",
       "\n",
       "   is_weekend  \n",
       "0           1  \n",
       "1           0  \n",
       "2           1  \n",
       "3           0  \n",
       "4           1  "
      ]
     },
     "execution_count": 48,
     "metadata": {},
     "output_type": "execute_result"
    }
   ],
   "source": [
    "df_data.head()"
   ]
  },
  {
   "cell_type": "code",
   "execution_count": 49,
   "metadata": {
    "colab": {
     "base_uri": "https://localhost:8080/"
    },
    "id": "ADvo8vEjPYEA",
    "outputId": "417df7de-f14d-4056-d2e7-bae3ac97468c"
   },
   "outputs": [
    {
     "name": "stdout",
     "output_type": "stream",
     "text": [
      "Ride value range = 3172.5933723352555\n"
     ]
    }
   ],
   "source": [
    "ride_value_range = df_data['ride_value'].max() - df_data['ride_value'].min()\n",
    "print(f\"Ride value range = {ride_value_range}\")"
   ]
  },
  {
   "cell_type": "code",
   "execution_count": 50,
   "metadata": {
    "colab": {
     "base_uri": "https://localhost:8080/",
     "height": 475
    },
    "id": "brOaPPEjPhid",
    "outputId": "c81e6325-fce9-4baa-b02c-425a26e3e236"
   },
   "outputs": [
    {
     "data": {
      "text/plain": [
       "<Axes: xlabel='day_of_week', ylabel='ride_value'>"
      ]
     },
     "execution_count": 50,
     "metadata": {},
     "output_type": "execute_result"
    },
    {
     "data": {
      "image/png": "[encoded data removed]",
      "text/plain": [
       "<Figure size 640x480 with 1 Axes>"
      ]
     },
     "metadata": {},
     "output_type": "display_data"
    }
   ],
   "source": [
    "agg_ride_value = pd.DataFrame(df_data.groupby('day_of_week')['ride_value'].sum()).reset_index()\n",
    "\n",
    "sns.barplot(x=\"day_of_week\", y=\"ride_value\", data=agg_ride_value)"
   ]
  },
  {
   "cell_type": "markdown",
   "metadata": {
    "id": "AzXkvaY8nnXk"
   },
   "source": [
    "It shows Sunday has most ride values and other hand Sunday has the lowest ride values."
   ]
  },
  {
   "cell_type": "code",
   "execution_count": 51,
   "metadata": {
    "colab": {
     "base_uri": "https://localhost:8080/",
     "height": 518
    },
    "id": "zWPqNEMSPjMS",
    "outputId": "f6eaed45-8d7e-4b4b-ce31-e005584f089e"
   },
   "outputs": [
    {
     "data": {
      "text/plain": [
       "<seaborn.axisgrid.FacetGrid at 0x513b22850>"
      ]
     },
     "execution_count": 51,
     "metadata": {},
     "output_type": "execute_result"
    },
    {
     "data": {
      "image/png": "[encoded data removed]",
      "text/plain": [
       "<Figure size 500x500 with 1 Axes>"
      ]
     },
     "metadata": {},
     "output_type": "display_data"
    }
   ],
   "source": [
    "sns.displot(df_data, x=\"ride_value\", kind=\"kde\")"
   ]
  },
  {
   "cell_type": "markdown",
   "metadata": {
    "id": "rnLtjnCXoyZw"
   },
   "source": [
    "It shows the data is highly skewed, with most values concentrated near zero and a few extreme outliers stretching towards 3000. The sharp peak at the lower end indicates that the majority of rides have small values, while the long tail suggests a few unusually high ride values. This distribution may require log transformation or outlier handling to improve model performance."
   ]
  },
  {
   "cell_type": "markdown",
   "metadata": {
    "id": "e34-oWqpl3gb"
   },
   "source": [
    "\n",
    "*   Reads offline postal code data and prepares a KDTree\n",
    "for fast nearest-neighbor lookups.\n",
    "\n",
    "*   Transforms ride start coordinates from WGS84 to L-EST for better spatial accuracy.\n",
    "\n",
    "*   Finds the nearest offline location to assign a postal code based on proximity.\n",
    "*   Computes ride distances in kilometers using geodesic distance between start and end points.\n",
    "\n",
    "\n",
    "\n",
    "\n",
    "\n",
    "\n",
    "\n",
    "\n",
    "*   Appends the new features (start_postcode and ride_distance) to the ride dataset.\n",
    "\n"
   ]
  },
  {
   "cell_type": "code",
   "execution_count": 53,
   "metadata": {
    "colab": {
     "base_uri": "https://localhost:8080/"
    },
    "id": "8mocnKvBP9bT",
    "outputId": "855270d5-5df4-49d1-b3e9-ab10136f2b37"
   },
   "outputs": [
    {
     "name": "stdout",
     "output_type": "stream",
     "text": [
      "Offline columns: ['ADR_ID', 'SIHTNUMBER', 'LAHIAADRESS', 'TAISAADRESS', 'VIITEPUNKT_X', 'VIITEPUNKT_Y']\n",
      "Renamed offline columns: ['ADR_ID', 'SIHTNUMBER', 'LAHIAADRESS', 'TAISAADRESS', 'VIITEPUNKT_X', 'VIITEPUNKT_Y']\n",
      "Original df_data_subset:\n",
      "                            start_time  start_lat  start_lng    end_lat  \\\n",
      "0       2022-03-06 15:02:39.329452000  59.407910  24.689836  59.513027   \n",
      "1       2022-03-10 11:15:55.177526000  59.441650  24.762712  59.426450   \n",
      "2       2022-03-06 14:23:33.893257000  59.435404  24.749795  59.431901   \n",
      "3       2022-03-03 09:11:59.104192000  59.406920  24.659006  59.381093   \n",
      "4       2022-03-06 00:13:01.290346000  59.434940  24.753641  59.489203   \n",
      "...                               ...        ...        ...        ...   \n",
      "627205  2022-03-16 06:19:39.281000000  59.489132  24.870559  59.426810   \n",
      "627206  2022-03-12 08:33:15.949213000  59.428616  24.771929  59.439053   \n",
      "627207  2022-03-16 06:20:33.475000000  59.387015  24.705160  59.422822   \n",
      "627208  2022-03-10 01:08:17.750884000  59.441934  24.754971  59.437759   \n",
      "627209  2022-03-20 21:05:49.697505000  59.439201  24.761567  59.426927   \n",
      "\n",
      "          end_lng  ride_value start_date  start_hour  start_minute  \\\n",
      "0       24.831630    3.518250 2022-03-06          15             2   \n",
      "1       24.783076    0.507500 2022-03-10          11            15   \n",
      "2       24.761588    0.190250 2022-03-06          14            23   \n",
      "3       24.641652    0.756000 2022-03-03           9            11   \n",
      "4       24.876170    2.271000 2022-03-06           0            13   \n",
      "...           ...         ...        ...         ...           ...   \n",
      "627205  24.672892    3.232051 2022-03-16           6            19   \n",
      "627206  24.873362    1.436750 2022-03-12           8            33   \n",
      "627207  24.697156    0.993888 2022-03-16           6            20   \n",
      "627208  24.775483    0.307250 2022-03-10           1             8   \n",
      "627209  24.552130    2.925750 2022-03-20          21             5   \n",
      "\n",
      "        start_second  day_of_week  is_weekend  \n",
      "0                 39            7           1  \n",
      "1                 55            4           0  \n",
      "2                 33            7           1  \n",
      "3                 59            4           0  \n",
      "4                  1            7           1  \n",
      "...              ...          ...         ...  \n",
      "627205            39            3           0  \n",
      "627206            15            6           1  \n",
      "627207            33            3           0  \n",
      "627208            17            4           0  \n",
      "627209            49            7           1  \n",
      "\n",
      "[627210 rows x 12 columns]\n"
     ]
    }
   ],
   "source": [
    "# Read the CSV. Adjust `sep` if your file is not comma-delimited.\n",
    "df_offline = pd.read_csv(\"estonia_addresses.csv\", sep=\";\", encoding=\"latin-1\")\n",
    "\n",
    "# Optional: print columns to verify\n",
    "print(\"Offline columns:\", df_offline.columns.tolist())\n",
    "\n",
    "# If needed, strip whitespace from column names:\n",
    "df_offline.columns = df_offline.columns.str.strip()\n",
    "\n",
    "# Double-check final columns\n",
    "print(\"Renamed offline columns:\", df_offline.columns.tolist())\n",
    "\n",
    "# Create a NumPy array of all (X, Y) points from the offline CSV\n",
    "coords_offline = df_offline[[\"VIITEPUNKT_X\", \"VIITEPUNKT_Y\"]].values\n",
    "tree = KDTree(coords_offline)\n",
    "\n",
    "transformer = pyproj.Transformer.from_crs(\"EPSG:4326\", \"EPSG:3301\", always_xy=True)\n",
    "\n",
    "print(\"Original df_data_subset:\\n\", df_data)\n",
    "\n",
    "\n",
    "postcodes = []\n",
    "ride_distance = []\n",
    "\n",
    "for idx, row in df_data.iterrows():\n",
    "    start_lat = row[\"start_lat\"]\n",
    "    start_lng = row[\"start_lng\"]\n",
    "    end_lat   = row[\"end_lat\"]\n",
    "    end_lng   = row[\"end_lng\"]\n",
    "\n",
    "    # (a) Transform (lon, lat) from WGS84 to L-EST\n",
    "    x_est, y_est = transformer.transform(start_lng, start_lat)\n",
    "\n",
    "    # (b) Find nearest neighbor in offline data\n",
    "    dist, idx_nn = tree.query([[x_est, y_est]], k=1)  # k=1 => nearest single point\n",
    "    nearest_idx = idx_nn[0][0]\n",
    "\n",
    "    # Extract the postal code (SIHTNUMBER) from the matched offline row\n",
    "    postcode = df_offline.iloc[nearest_idx][\"SIHTNUMBER\"]\n",
    "    postcodes.append(postcode)\n",
    "\n",
    "    # (c) Calculate geodesic distance in kilometers (lat/lon => distance)\n",
    "    distance_km = geodesic((start_lat, start_lng), (end_lat, end_lng)).km\n",
    "    ride_distance.append(distance_km)\n",
    "\n",
    "# Add results to df_data_subset\n",
    "df_data[\"start_postcode\"] = postcodes\n",
    "df_data[\"ride_distance\"]  = ride_distance\n"
   ]
  },
  {
   "cell_type": "code",
   "execution_count": 54,
   "metadata": {
    "colab": {
     "base_uri": "https://localhost:8080/",
     "height": 313
    },
    "id": "m4g1Le9PQGVH",
    "outputId": "aa7a2628-8ea7-45f9-93d6-b96199a9957e"
   },
   "outputs": [
    {
     "data": {
      "text/html": [
       "<div>\n",
       "<style scoped>\n",
       "    .dataframe tbody tr th:only-of-type {\n",
       "        vertical-align: middle;\n",
       "    }\n",
       "\n",
       "    .dataframe tbody tr th {\n",
       "        vertical-align: top;\n",
       "    }\n",
       "\n",
       "    .dataframe thead th {\n",
       "        text-align: right;\n",
       "    }\n",
       "</style>\n",
       "<table border=\"1\" class=\"dataframe\">\n",
       "  <thead>\n",
       "    <tr style=\"text-align: right;\">\n",
       "      <th></th>\n",
       "      <th>start_time</th>\n",
       "      <th>start_lat</th>\n",
       "      <th>start_lng</th>\n",
       "      <th>end_lat</th>\n",
       "      <th>end_lng</th>\n",
       "      <th>ride_value</th>\n",
       "      <th>start_date</th>\n",
       "      <th>start_hour</th>\n",
       "      <th>start_minute</th>\n",
       "      <th>start_second</th>\n",
       "      <th>day_of_week</th>\n",
       "      <th>is_weekend</th>\n",
       "      <th>start_postcode</th>\n",
       "      <th>ride_distance</th>\n",
       "    </tr>\n",
       "  </thead>\n",
       "  <tbody>\n",
       "    <tr>\n",
       "      <th>0</th>\n",
       "      <td>2022-03-06 15:02:39.329452000</td>\n",
       "      <td>59.407910</td>\n",
       "      <td>24.689836</td>\n",
       "      <td>59.513027</td>\n",
       "      <td>24.831630</td>\n",
       "      <td>3.51825</td>\n",
       "      <td>2022-03-06</td>\n",
       "      <td>15</td>\n",
       "      <td>2</td>\n",
       "      <td>39</td>\n",
       "      <td>7</td>\n",
       "      <td>1</td>\n",
       "      <td>12913</td>\n",
       "      <td>14.205080</td>\n",
       "    </tr>\n",
       "    <tr>\n",
       "      <th>1</th>\n",
       "      <td>2022-03-10 11:15:55.177526000</td>\n",
       "      <td>59.441650</td>\n",
       "      <td>24.762712</td>\n",
       "      <td>59.426450</td>\n",
       "      <td>24.783076</td>\n",
       "      <td>0.50750</td>\n",
       "      <td>2022-03-10</td>\n",
       "      <td>11</td>\n",
       "      <td>15</td>\n",
       "      <td>55</td>\n",
       "      <td>4</td>\n",
       "      <td>0</td>\n",
       "      <td>10151</td>\n",
       "      <td>2.050095</td>\n",
       "    </tr>\n",
       "    <tr>\n",
       "      <th>2</th>\n",
       "      <td>2022-03-06 14:23:33.893257000</td>\n",
       "      <td>59.435404</td>\n",
       "      <td>24.749795</td>\n",
       "      <td>59.431901</td>\n",
       "      <td>24.761588</td>\n",
       "      <td>0.19025</td>\n",
       "      <td>2022-03-06</td>\n",
       "      <td>14</td>\n",
       "      <td>23</td>\n",
       "      <td>33</td>\n",
       "      <td>7</td>\n",
       "      <td>1</td>\n",
       "      <td>10148</td>\n",
       "      <td>0.774715</td>\n",
       "    </tr>\n",
       "    <tr>\n",
       "      <th>3</th>\n",
       "      <td>2022-03-03 09:11:59.104192000</td>\n",
       "      <td>59.406920</td>\n",
       "      <td>24.659006</td>\n",
       "      <td>59.381093</td>\n",
       "      <td>24.641652</td>\n",
       "      <td>0.75600</td>\n",
       "      <td>2022-03-03</td>\n",
       "      <td>9</td>\n",
       "      <td>11</td>\n",
       "      <td>59</td>\n",
       "      <td>4</td>\n",
       "      <td>0</td>\n",
       "      <td>12618</td>\n",
       "      <td>3.041401</td>\n",
       "    </tr>\n",
       "    <tr>\n",
       "      <th>4</th>\n",
       "      <td>2022-03-06 00:13:01.290346000</td>\n",
       "      <td>59.434940</td>\n",
       "      <td>24.753641</td>\n",
       "      <td>59.489203</td>\n",
       "      <td>24.876170</td>\n",
       "      <td>2.27100</td>\n",
       "      <td>2022-03-06</td>\n",
       "      <td>0</td>\n",
       "      <td>13</td>\n",
       "      <td>1</td>\n",
       "      <td>7</td>\n",
       "      <td>1</td>\n",
       "      <td>10143</td>\n",
       "      <td>9.209442</td>\n",
       "    </tr>\n",
       "  </tbody>\n",
       "</table>\n",
       "</div>"
      ],
      "text/plain": [
       "                      start_time  start_lat  start_lng    end_lat    end_lng  \\\n",
       "0  2022-03-06 15:02:39.329452000  59.407910  24.689836  59.513027  24.831630   \n",
       "1  2022-03-10 11:15:55.177526000  59.441650  24.762712  59.426450  24.783076   \n",
       "2  2022-03-06 14:23:33.893257000  59.435404  24.749795  59.431901  24.761588   \n",
       "3  2022-03-03 09:11:59.104192000  59.406920  24.659006  59.381093  24.641652   \n",
       "4  2022-03-06 00:13:01.290346000  59.434940  24.753641  59.489203  24.876170   \n",
       "\n",
       "   ride_value start_date  start_hour  start_minute  start_second  day_of_week  \\\n",
       "0     3.51825 2022-03-06          15             2            39            7   \n",
       "1     0.50750 2022-03-10          11            15            55            4   \n",
       "2     0.19025 2022-03-06          14            23            33            7   \n",
       "3     0.75600 2022-03-03           9            11            59            4   \n",
       "4     2.27100 2022-03-06           0            13             1            7   \n",
       "\n",
       "   is_weekend  start_postcode  ride_distance  \n",
       "0           1           12913      14.205080  \n",
       "1           0           10151       2.050095  \n",
       "2           1           10148       0.774715  \n",
       "3           0           12618       3.041401  \n",
       "4           1           10143       9.209442  "
      ]
     },
     "execution_count": 54,
     "metadata": {},
     "output_type": "execute_result"
    }
   ],
   "source": [
    "df_data.head()"
   ]
  },
  {
   "cell_type": "code",
   "execution_count": 55,
   "metadata": {
    "colab": {
     "base_uri": "https://localhost:8080/"
    },
    "id": "2lNwQpO3QNeP",
    "outputId": "5ee9f7be-71da-4ba7-f6f0-d5878729a882"
   },
   "outputs": [
    {
     "data": {
      "text/plain": [
       "303"
      ]
     },
     "execution_count": 55,
     "metadata": {},
     "output_type": "execute_result"
    }
   ],
   "source": [
    "df_data['start_postcode'].nunique()"
   ]
  },
  {
   "cell_type": "markdown",
   "metadata": {
    "id": "DfAPSlrxmwnI"
   },
   "source": [
    "How many rows in df_data have a start_postcode of '00000'."
   ]
  },
  {
   "cell_type": "code",
   "execution_count": 56,
   "metadata": {
    "colab": {
     "base_uri": "https://localhost:8080/"
    },
    "id": "Zt5xJGjQQQ5V",
    "outputId": "083189cb-f431-40e5-e6b1-9a784bb9dcab"
   },
   "outputs": [
    {
     "data": {
      "text/plain": [
       "(0, 14)"
      ]
     },
     "execution_count": 56,
     "metadata": {},
     "output_type": "execute_result"
    }
   ],
   "source": [
    "df_data[df_data['start_postcode'] == '00000'].shape"
   ]
  },
  {
   "cell_type": "code",
   "execution_count": 57,
   "metadata": {
    "colab": {
     "base_uri": "https://localhost:8080/"
    },
    "id": "bgPQU-xIQTwm",
    "outputId": "0456e2bb-cadf-4e79-9f53-37ea1dc7162d"
   },
   "outputs": [
    {
     "data": {
      "text/plain": [
       "(627210, 14)"
      ]
     },
     "execution_count": 57,
     "metadata": {},
     "output_type": "execute_result"
    }
   ],
   "source": [
    "\n",
    "df_data_subset_filtered = df_data[df_data['start_postcode'] != '00000']\n",
    "df_data_subset_filtered.shape"
   ]
  },
  {
   "cell_type": "markdown",
   "metadata": {
    "id": "YbYpWMUZncqg"
   },
   "source": [
    "This is done to convert categorical values into numerical form so that machine learning models can process them effectively."
   ]
  },
  {
   "cell_type": "code",
   "execution_count": 58,
   "metadata": {
    "id": "nr0F-wFeQVIp"
   },
   "outputs": [],
   "source": [
    "# day_of_week\n",
    "\n",
    "day_of_week_encoder = preprocessing.LabelEncoder()\n",
    "day_of_week_encoded = day_of_week_encoder.fit_transform(df_data_subset_filtered['day_of_week'])\n",
    "\n",
    "# postcode\n",
    "postcode_encoder = preprocessing.LabelEncoder()\n",
    "postcode_encoded = postcode_encoder.fit_transform(df_data_subset_filtered['start_postcode'])"
   ]
  },
  {
   "cell_type": "code",
   "execution_count": 59,
   "metadata": {
    "colab": {
     "base_uri": "https://localhost:8080/"
    },
    "id": "U4CxZGjWQb2I",
    "outputId": "074e4c43-ba4b-47d1-8820-5d7f59f5d5b6"
   },
   "outputs": [
    {
     "data": {
      "text/plain": [
       "array([1, 2, 3, 4, 5, 6, 7])"
      ]
     },
     "execution_count": 59,
     "metadata": {},
     "output_type": "execute_result"
    }
   ],
   "source": [
    "\n",
    "day_of_week_encoder.classes_"
   ]
  },
  {
   "cell_type": "code",
   "execution_count": 60,
   "metadata": {
    "colab": {
     "base_uri": "https://localhost:8080/"
    },
    "id": "kCMV5rI5Qe6l",
    "outputId": "fe0bc649-5df8-44cf-fd64-2b21cd933922"
   },
   "outputs": [
    {
     "data": {
      "text/plain": [
       "array([10001, 10111, 10112, 10113, 10114, 10115, 10116, 10117, 10118,\n",
       "       10119, 10120, 10121, 10122, 10123, 10124, 10125, 10126, 10127,\n",
       "       10128, 10129, 10130, 10131, 10132, 10133, 10134, 10135, 10136,\n",
       "       10137, 10138, 10139, 10140, 10141, 10142, 10143, 10144, 10145,\n",
       "       10146, 10147, 10148, 10149, 10150, 10151, 10152, 10153, 10154,\n",
       "       10155, 10156, 10159, 10311, 10312, 10313, 10314, 10315, 10316,\n",
       "       10317, 10318, 10319, 10320, 10321, 10323, 10411, 10412, 10413,\n",
       "       10414, 10415, 10416, 10611, 10612, 10613, 10614, 10615, 10616,\n",
       "       10617, 10618, 10619, 10620, 10621, 10911, 10912, 10913, 10914,\n",
       "       10915, 10916, 10917, 10918, 10919, 10920, 10921, 10922, 11101,\n",
       "       11211, 11212, 11213, 11214, 11215, 11216, 11217, 11218, 11311,\n",
       "       11312, 11313, 11314, 11315, 11316, 11317, 11318, 11411, 11412,\n",
       "       11413, 11414, 11415, 11416, 11417, 11611, 11612, 11613, 11614,\n",
       "       11615, 11616, 11617, 11618, 11619, 11620, 11621, 11622, 11623,\n",
       "       11624, 11625, 11711, 11712, 11713, 11911, 11912, 11913, 11914,\n",
       "       12011, 12012, 12013, 12014, 12015, 12111, 12112, 12113, 12611,\n",
       "       12612, 12613, 12614, 12615, 12616, 12617, 12618, 12619, 12620,\n",
       "       12911, 12912, 12913, 12914, 12915, 12916, 12917, 12918, 12919,\n",
       "       13411, 13412, 13413, 13414, 13415, 13416, 13417, 13418, 13419,\n",
       "       13420, 13421, 13422, 13423, 13424, 13425, 13426, 13511, 13512,\n",
       "       13513, 13514, 13515, 13516, 13517, 13518, 13519, 13520, 13521,\n",
       "       13522, 13523, 13524, 13525, 13611, 13612, 13613, 13614, 13615,\n",
       "       13616, 13617, 13618, 13619, 13620, 13621, 13622, 13623, 13624,\n",
       "       13625, 13626, 13627, 13628, 13629, 13811, 13812, 13816, 13817,\n",
       "       13911, 13912, 13913, 13914, 13915, 13916, 13917, 13918, 13919,\n",
       "       15007, 15009, 15015, 15026, 15030, 15041, 15047, 15048, 15049,\n",
       "       15050, 15055, 15059, 15065, 15071, 15094, 15095, 15098, 15099,\n",
       "       15161, 15165, 15170, 15172, 15185, 15188, 15190, 15193, 15199,\n",
       "       19086, 74001, 74004, 74008, 74009, 74010, 74011, 74012, 74013,\n",
       "       74014, 74015, 74016, 74017, 74018, 74019, 74020, 74114, 74115,\n",
       "       74117, 74206, 74207, 75301, 75304, 75306, 75310, 75312, 75322,\n",
       "       75331, 75403, 75404, 75413, 75509, 75511, 76401, 76403, 76404,\n",
       "       76406, 76407, 76418, 76505, 76506, 76901, 76902, 76906, 76911,\n",
       "       76912, 76913, 76915, 76916, 76922, 76924])"
      ]
     },
     "execution_count": 60,
     "metadata": {},
     "output_type": "execute_result"
    }
   ],
   "source": [
    "postcode_encoder.classes_"
   ]
  },
  {
   "cell_type": "code",
   "execution_count": 61,
   "metadata": {
    "id": "jem0w2u2QjTw"
   },
   "outputs": [],
   "source": [
    "\n",
    "df_data_preprocessed = df_data_subset_filtered.copy()\n",
    "df_data_preprocessed['day_of_week_encoded'] = day_of_week_encoded\n",
    "df_data_preprocessed['start_postcode_encoded'] = postcode_encoded"
   ]
  },
  {
   "cell_type": "markdown",
   "metadata": {
    "id": "nacHJE9xnpoX"
   },
   "source": [
    "# Machine Learning model\n",
    "This step selects relevant features (df_X) and the target variable (df_y) for training a machine learning model."
   ]
  },
  {
   "cell_type": "code",
   "execution_count": 62,
   "metadata": {
    "id": "YxTMwkksQqfJ"
   },
   "outputs": [],
   "source": [
    "# input variables\n",
    "df_X = df_data_preprocessed[['start_lat', 'start_lng', 'start_postcode_encoded','end_lat', 'end_lng', 'day_of_week_encoded', 'is_weekend', 'ride_distance']]\n",
    "\n",
    "# output variable\n",
    "df_y = df_data_preprocessed['ride_value']"
   ]
  },
  {
   "cell_type": "markdown",
   "metadata": {
    "id": "tMrKsqTjlVLU"
   },
   "source": [
    "Split the dataset into training (80%) and testing (20%) sets to train the model on one portion and evaluate its performance on unseen data. The random_state=42 ensures reproducibility."
   ]
  },
  {
   "cell_type": "code",
   "execution_count": 63,
   "metadata": {
    "id": "C_t2dUhvQ4Jg"
   },
   "outputs": [],
   "source": [
    "test_size = 0.2\n",
    "\n",
    "# split dataset into train and test sets (each with corresponding input and output variables)\n",
    "X_train, X_test, y_train, y_test = train_test_split(df_X, df_y, test_size=test_size, random_state=42)"
   ]
  },
  {
   "cell_type": "markdown",
   "metadata": {
    "id": "aSVL7CwjlmjK"
   },
   "source": [
    "Trained three regression models (Linear Regression, Random Forest, and Gradient Boosting) using 5-fold cross-validation. A pipeline was used to normalize the data before training each model. The model with the lowest mean squared error (MSE) was selected as the best-performing model."
   ]
  },
  {
   "cell_type": "code",
   "execution_count": 64,
   "metadata": {
    "colab": {
     "base_uri": "https://localhost:8080/"
    },
    "id": "IlYEtojORBtl",
    "outputId": "adcf7aec-97b1-4518-a5bc-ab54055aaf2a"
   },
   "outputs": [
    {
     "name": "stdout",
     "output_type": "stream",
     "text": [
      "The mean cross validation score (MSE) for model Linear Regression is 3.6056281741833134\n",
      "The mean cross validation score (MSE) for model Random Forest Regressor is 0.6735164819339855\n",
      "The mean cross validation score (MSE) for model Gradient Boosting Regressor is 0.5253864186066154\n",
      "The best model is Gradient Boosting Regressor with score: 0.5253864186066154\n"
     ]
    }
   ],
   "source": [
    "# define models and their names\n",
    "estimators = [LinearRegression(), RandomForestRegressor(), GradientBoostingRegressor()]\n",
    "estimator_names = ['Linear Regression', 'Random Forest Regressor', 'Gradient Boosting Regressor']\n",
    "\n",
    "# set 5-fold cross validation\n",
    "folds = KFold(n_splits=5, shuffle=True, random_state=42)\n",
    "overall_scores = []\n",
    "\n",
    "# loop through each model\n",
    "for i in range(len(estimators)):\n",
    "\n",
    "    # define a pipeline with two steps: 1. scale the range of all values to 0-1\n",
    "    # 2. train with selected model\n",
    "    pipe = Pipeline([('scaler', MinMaxScaler()),\n",
    "                     ('estimator', estimators[i])])\n",
    "\n",
    "    # execute cross-validation with the pipeline\n",
    "    # use negative mean squared error as its measuring score\n",
    "    scores = cross_val_score(pipe, X_train, y_train, scoring='neg_mean_squared_error', cv=folds)\n",
    "\n",
    "    # get the model name\n",
    "    model_name = estimator_names[i]\n",
    "\n",
    "    # use absolute value of the mean cross-validation score to get a mean squared error value\n",
    "    mean_MSE_score = abs(scores.mean())\n",
    "\n",
    "    # append score and print result\n",
    "    overall_scores.append(mean_MSE_score)\n",
    "    print(f\"The mean cross validation score (MSE) for model {model_name} is {mean_MSE_score}\")\n",
    "\n",
    "# display the best model and its scores\n",
    "best_score = min(overall_scores)\n",
    "best_score_index = overall_scores.index(best_score)\n",
    "best_model = estimator_names[best_score_index]\n",
    "print(f\"The best model is {best_model} with score: {best_score}\")"
   ]
  },
  {
   "cell_type": "code",
   "execution_count": 65,
   "metadata": {
    "colab": {
     "base_uri": "https://localhost:8080/"
    },
    "id": "ynchejgHRDE7",
    "outputId": "45f0229d-3203-4b04-fcfb-85cff2a7b998"
   },
   "outputs": [
    {
     "name": "stdout",
     "output_type": "stream",
     "text": [
      "Gradient Boosting Regressor on Test Set: loss score = 0.12177925291003536, accuracy score = 0.9999393723536382\n"
     ]
    }
   ],
   "source": [
    "\n",
    "# scale train and test set inputs to range 0-1\n",
    "scaler = MinMaxScaler()\n",
    "X_train_scaled = scaler.fit_transform(X_train)\n",
    "X_test_scaled = scaler.transform(X_test)\n",
    "\n",
    "# train with the best model: Gradient Boosting Regressor\n",
    "gradient_boosting = GradientBoostingRegressor()\n",
    "gradient_boosting.fit(X_train_scaled, y_train)\n",
    "\n",
    "# evaluate with test set using the trained model\n",
    "y_pred = gradient_boosting.predict(X_test_scaled)\n",
    "\n",
    "# calculate mean squared error and r2 accuracy score\n",
    "loss_score = mean_squared_error(y_test, y_pred)\n",
    "accuracy_score = r2_score(y_test, y_pred)\n",
    "print(f\"Gradient Boosting Regressor on Test Set: loss score = {loss_score}, accuracy score = {accuracy_score}\")"
   ]
  },
  {
   "cell_type": "code",
   "execution_count": 66,
   "metadata": {
    "colab": {
     "base_uri": "https://localhost:8080/",
     "height": 516
    },
    "id": "pLqRGtixRMQI",
    "outputId": "bb088194-2107-477d-cf61-090b3c872bdb"
   },
   "outputs": [
    {
     "data": {
      "image/png": "[encoded data removed]",
      "text/plain": [
       "<Figure size 1600x500 with 1 Axes>"
      ]
     },
     "metadata": {},
     "output_type": "display_data"
    }
   ],
   "source": [
    "plt.style.use('ggplot')\n",
    "reg_real_vs_pred = pd.DataFrame({'Actual': y_test, 'Predicted': y_pred})\n",
    "reg_real_vs_pred = reg_real_vs_pred.head(10)\n",
    "reg_real_vs_pred.plot(kind='bar', title='MODEL: Gradient Boosting Regressor', figsize=(16,5))\n",
    "plt.show()"
   ]
  },
  {
   "cell_type": "code",
   "execution_count": 67,
   "metadata": {
    "colab": {
     "base_uri": "https://localhost:8080/",
     "height": 498
    },
    "id": "i7_GK3SkSRGC",
    "outputId": "077cd0dd-c4a1-4c04-b93d-66acfb527f79"
   },
   "outputs": [
    {
     "data": {
      "text/plain": [
       "Text(0.5, 1.0, 'Gradient Boosting Regressor: Actual vs Predicted')"
      ]
     },
     "execution_count": 67,
     "metadata": {},
     "output_type": "execute_result"
    },
    {
     "data": {
      "image/png": "[encoded data removed]",
      "text/plain": [
       "<Figure size 640x480 with 1 Axes>"
      ]
     },
     "metadata": {},
     "output_type": "display_data"
    }
   ],
   "source": [
    "sns.regplot(x=y_test, y=y_pred,\n",
    "            scatter_kws={\"color\":\"cornflowerblue\"},\n",
    "            line_kws={\"color\":\"red\"}).set_title('Gradient Boosting Regressor: Actual vs Predicted')"
   ]
  },
  {
   "cell_type": "markdown",
   "metadata": {
    "id": "Jo-8TLFUkr0P"
   },
   "source": [
    "# Conclusion\n",
    "The dataset was analyzed to predict ride_value using various features such as location, time, and categorical encodings. After detecting and assessing outliers, different preprocessing techniques were tested, including feature engineering and transformations. the Gradient Boosting Regressor outperformed both the Linear Regression and Random Forest Regressor models, achieving the lowest mean cross-validation MSE of 0.4899. While its test set loss score was 4.2498, it maintained a high accuracy of 0.9979, indicating strong predictive performance. Given these results, the Gradient Boosting Regressor is the most suitable model for this task."
   ]
  }
 ],
 "metadata": {
  "colab": {
   "provenance": []
  },
  "kernelspec": {
   "display_name": "ml-env",
   "language": "python",
   "name": "ml-env"
  },
  "language_info": {
   "codemirror_mode": {
    "name": "ipython",
    "version": 3
   },
   "file_extension": ".py",
   "mimetype": "text/x-python",
   "name": "python",
   "nbconvert_exporter": "python",
   "pygments_lexer": "ipython3",
   "version": "3.13.2"
  }
 },
 "nbformat": 4,
 "nbformat_minor": 4
}
